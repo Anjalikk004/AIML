{
  "nbformat": 4,
  "nbformat_minor": 0,
  "metadata": {
    "colab": {
      "provenance": [],
      "authorship_tag": "ABX9TyPGGmRoeJFB5XMwIarMZoes",
      "include_colab_link": true
    },
    "kernelspec": {
      "name": "python3",
      "display_name": "Python 3"
    },
    "language_info": {
      "name": "python"
    }
  },
  "cells": [
    {
      "cell_type": "markdown",
      "metadata": {
        "id": "view-in-github",
        "colab_type": "text"
      },
      "source": [
        "<a href=\"https://colab.research.google.com/github/Anjalikk004/AIML/blob/main/CIE_158CS22019.ipynb\" target=\"_parent\"><img src=\"https://colab.research.google.com/assets/colab-badge.svg\" alt=\"Open In Colab\"/></a>"
      ]
    },
    {
      "cell_type": "code",
      "source": [
        "import pandas as pd\n",
        "df=pd.read_csv('/content/archive (40).zip')\n",
        "print(df)"
      ],
      "metadata": {
        "id": "aoAevu9qeyc0",
        "colab": {
          "base_uri": "https://localhost:8080/"
        },
        "outputId": "1c868a7e-c4df-416e-abdb-8393f132af87"
      },
      "execution_count": null,
      "outputs": [
        {
          "output_type": "stream",
          "name": "stdout",
          "text": [
            "      Education  JoiningYear       City  PaymentTier  Age  Gender EverBenched  \\\n",
            "0     Bachelors         2017  Bangalore            3   34    Male          No   \n",
            "1     Bachelors         2013       Pune            1   28  Female          No   \n",
            "2     Bachelors         2014  New Delhi            3   38  Female          No   \n",
            "3       Masters         2016  Bangalore            3   27    Male          No   \n",
            "4       Masters         2017       Pune            3   24    Male         Yes   \n",
            "...         ...          ...        ...          ...  ...     ...         ...   \n",
            "4648  Bachelors         2013  Bangalore            3   26  Female          No   \n",
            "4649    Masters         2013       Pune            2   37    Male          No   \n",
            "4650    Masters         2018  New Delhi            3   27    Male          No   \n",
            "4651  Bachelors         2012  Bangalore            3   30    Male         Yes   \n",
            "4652  Bachelors         2015  Bangalore            3   33    Male         Yes   \n",
            "\n",
            "      ExperienceInCurrentDomain  LeaveOrNot  \n",
            "0                             0           0  \n",
            "1                             3           1  \n",
            "2                             2           0  \n",
            "3                             5           1  \n",
            "4                             2           1  \n",
            "...                         ...         ...  \n",
            "4648                          4           0  \n",
            "4649                          2           1  \n",
            "4650                          5           1  \n",
            "4651                          2           0  \n",
            "4652                          4           0  \n",
            "\n",
            "[4653 rows x 9 columns]\n"
          ]
        }
      ]
    },
    {
      "cell_type": "markdown",
      "source": [
        "keep missing value\n"
      ],
      "metadata": {
        "id": "5T2Vz20kcrHc"
      }
    },
    {
      "cell_type": "code",
      "execution_count": null,
      "metadata": {
        "colab": {
          "base_uri": "https://localhost:8080/"
        },
        "id": "VH9j0hU5cST0",
        "outputId": "5e7576ba-2225-4ba9-e4f0-de02a47c3e90"
      },
      "outputs": [
        {
          "output_type": "stream",
          "name": "stdout",
          "text": [
            "Approach 1:keep the missing value as is\n",
            "      Education  JoiningYear       City  PaymentTier  Age  Gender EverBenched  \\\n",
            "0     Bachelors         2017  Bangalore            3   34    Male          No   \n",
            "1     Bachelors         2013       Pune            1   28  Female          No   \n",
            "2     Bachelors         2014  New Delhi            3   38  Female          No   \n",
            "3       Masters         2016  Bangalore            3   27    Male          No   \n",
            "4       Masters         2017       Pune            3   24    Male         Yes   \n",
            "...         ...          ...        ...          ...  ...     ...         ...   \n",
            "4648  Bachelors         2013  Bangalore            3   26  Female          No   \n",
            "4649    Masters         2013       Pune            2   37    Male          No   \n",
            "4650    Masters         2018  New Delhi            3   27    Male          No   \n",
            "4651  Bachelors         2012  Bangalore            3   30    Male         Yes   \n",
            "4652  Bachelors         2015  Bangalore            3   33    Male         Yes   \n",
            "\n",
            "      ExperienceInCurrentDomain  LeaveOrNot  \n",
            "0                             0           0  \n",
            "1                             3           1  \n",
            "2                             2           0  \n",
            "3                             5           1  \n",
            "4                             2           1  \n",
            "...                         ...         ...  \n",
            "4648                          4           0  \n",
            "4649                          2           1  \n",
            "4650                          5           1  \n",
            "4651                          2           0  \n",
            "4652                          4           0  \n",
            "\n",
            "[4653 rows x 9 columns]\n"
          ]
        }
      ],
      "source": [
        "import pandas as pd\n",
        "path=('/content/archive (40).zip')\n",
        "df = pd.read_csv(path)\n",
        "print(\"Approach 1:keep the missing value as is\")\n",
        "print(df)"
      ]
    },
    {
      "cell_type": "code",
      "source": [
        "non_numeric_columns = df.select_dtypes(exclude=['number']).columns\n",
        "df[non_numeric_columns] = df[non_numeric_columns].fillna('z')\n",
        "print(df)\n"
      ],
      "metadata": {
        "colab": {
          "base_uri": "https://localhost:8080/"
        },
        "id": "1NFeCn3cdYiL",
        "outputId": "ef398603-a62c-48c4-9a9c-6fc44ac305dd"
      },
      "execution_count": null,
      "outputs": [
        {
          "output_type": "stream",
          "name": "stdout",
          "text": [
            "      Education  JoiningYear       City  PaymentTier  Age  Gender EverBenched  \\\n",
            "0     Bachelors         2017  Bangalore            3   34    Male          No   \n",
            "1     Bachelors         2013       Pune            1   28  Female          No   \n",
            "2     Bachelors         2014  New Delhi            3   38  Female          No   \n",
            "3       Masters         2016  Bangalore            3   27    Male          No   \n",
            "4       Masters         2017       Pune            3   24    Male         Yes   \n",
            "...         ...          ...        ...          ...  ...     ...         ...   \n",
            "4648  Bachelors         2013  Bangalore            3   26  Female          No   \n",
            "4649    Masters         2013       Pune            2   37    Male          No   \n",
            "4650    Masters         2018  New Delhi            3   27    Male          No   \n",
            "4651  Bachelors         2012  Bangalore            3   30    Male         Yes   \n",
            "4652  Bachelors         2015  Bangalore            3   33    Male         Yes   \n",
            "\n",
            "      ExperienceInCurrentDomain  LeaveOrNot  \n",
            "0                             0           0  \n",
            "1                             3           1  \n",
            "2                             2           0  \n",
            "3                             5           1  \n",
            "4                             2           1  \n",
            "...                         ...         ...  \n",
            "4648                          4           0  \n",
            "4649                          2           1  \n",
            "4650                          5           1  \n",
            "4651                          2           0  \n",
            "4652                          4           0  \n",
            "\n",
            "[4653 rows x 9 columns]\n"
          ]
        }
      ]
    },
    {
      "cell_type": "code",
      "source": [
        "import pandas as pd\n",
        "data=pd.read_csv('/content/archive (40).zip')\n",
        "df=df.dropna(axis=1)\n",
        "print(df)"
      ],
      "metadata": {
        "colab": {
          "base_uri": "https://localhost:8080/"
        },
        "id": "Io_fkMg_eLXh",
        "outputId": "8ec6ef17-d9f0-4e76-9027-2e52d869a978"
      },
      "execution_count": null,
      "outputs": [
        {
          "output_type": "stream",
          "name": "stdout",
          "text": [
            "      Education  JoiningYear       City  PaymentTier  Age  Gender EverBenched  \\\n",
            "0     Bachelors         2017  Bangalore            3   34    Male          No   \n",
            "1     Bachelors         2013       Pune            1   28  Female          No   \n",
            "2     Bachelors         2014  New Delhi            3   38  Female          No   \n",
            "3       Masters         2016  Bangalore            3   27    Male          No   \n",
            "4       Masters         2017       Pune            3   24    Male         Yes   \n",
            "...         ...          ...        ...          ...  ...     ...         ...   \n",
            "4648  Bachelors         2013  Bangalore            3   26  Female          No   \n",
            "4649    Masters         2013       Pune            2   37    Male          No   \n",
            "4650    Masters         2018  New Delhi            3   27    Male          No   \n",
            "4651  Bachelors         2012  Bangalore            3   30    Male         Yes   \n",
            "4652  Bachelors         2015  Bangalore            3   33    Male         Yes   \n",
            "\n",
            "      ExperienceInCurrentDomain  LeaveOrNot  \n",
            "0                             0           0  \n",
            "1                             3           1  \n",
            "2                             2           0  \n",
            "3                             5           1  \n",
            "4                             2           1  \n",
            "...                         ...         ...  \n",
            "4648                          4           0  \n",
            "4649                          2           1  \n",
            "4650                          5           1  \n",
            "4651                          2           0  \n",
            "4652                          4           0  \n",
            "\n",
            "[4653 rows x 9 columns]\n"
          ]
        }
      ]
    },
    {
      "cell_type": "code",
      "source": [
        "df.dropna()"
      ],
      "metadata": {
        "colab": {
          "base_uri": "https://localhost:8080/",
          "height": 424
        },
        "id": "Lxl7suVzePwB",
        "outputId": "df0232ee-06cd-4673-d59a-0350cf4d8155"
      },
      "execution_count": null,
      "outputs": [
        {
          "output_type": "execute_result",
          "data": {
            "text/plain": [
              "      Education  JoiningYear       City  PaymentTier  Age  Gender EverBenched  \\\n",
              "0     Bachelors         2017  Bangalore            3   34    Male          No   \n",
              "1     Bachelors         2013       Pune            1   28  Female          No   \n",
              "2     Bachelors         2014  New Delhi            3   38  Female          No   \n",
              "3       Masters         2016  Bangalore            3   27    Male          No   \n",
              "4       Masters         2017       Pune            3   24    Male         Yes   \n",
              "...         ...          ...        ...          ...  ...     ...         ...   \n",
              "4648  Bachelors         2013  Bangalore            3   26  Female          No   \n",
              "4649    Masters         2013       Pune            2   37    Male          No   \n",
              "4650    Masters         2018  New Delhi            3   27    Male          No   \n",
              "4651  Bachelors         2012  Bangalore            3   30    Male         Yes   \n",
              "4652  Bachelors         2015  Bangalore            3   33    Male         Yes   \n",
              "\n",
              "      ExperienceInCurrentDomain  LeaveOrNot  \n",
              "0                             0           0  \n",
              "1                             3           1  \n",
              "2                             2           0  \n",
              "3                             5           1  \n",
              "4                             2           1  \n",
              "...                         ...         ...  \n",
              "4648                          4           0  \n",
              "4649                          2           1  \n",
              "4650                          5           1  \n",
              "4651                          2           0  \n",
              "4652                          4           0  \n",
              "\n",
              "[4653 rows x 9 columns]"
            ],
            "text/html": [
              "\n",
              "  <div id=\"df-392401c2-a7be-4a84-97b9-4b782920146a\" class=\"colab-df-container\">\n",
              "    <div>\n",
              "<style scoped>\n",
              "    .dataframe tbody tr th:only-of-type {\n",
              "        vertical-align: middle;\n",
              "    }\n",
              "\n",
              "    .dataframe tbody tr th {\n",
              "        vertical-align: top;\n",
              "    }\n",
              "\n",
              "    .dataframe thead th {\n",
              "        text-align: right;\n",
              "    }\n",
              "</style>\n",
              "<table border=\"1\" class=\"dataframe\">\n",
              "  <thead>\n",
              "    <tr style=\"text-align: right;\">\n",
              "      <th></th>\n",
              "      <th>Education</th>\n",
              "      <th>JoiningYear</th>\n",
              "      <th>City</th>\n",
              "      <th>PaymentTier</th>\n",
              "      <th>Age</th>\n",
              "      <th>Gender</th>\n",
              "      <th>EverBenched</th>\n",
              "      <th>ExperienceInCurrentDomain</th>\n",
              "      <th>LeaveOrNot</th>\n",
              "    </tr>\n",
              "  </thead>\n",
              "  <tbody>\n",
              "    <tr>\n",
              "      <th>0</th>\n",
              "      <td>Bachelors</td>\n",
              "      <td>2017</td>\n",
              "      <td>Bangalore</td>\n",
              "      <td>3</td>\n",
              "      <td>34</td>\n",
              "      <td>Male</td>\n",
              "      <td>No</td>\n",
              "      <td>0</td>\n",
              "      <td>0</td>\n",
              "    </tr>\n",
              "    <tr>\n",
              "      <th>1</th>\n",
              "      <td>Bachelors</td>\n",
              "      <td>2013</td>\n",
              "      <td>Pune</td>\n",
              "      <td>1</td>\n",
              "      <td>28</td>\n",
              "      <td>Female</td>\n",
              "      <td>No</td>\n",
              "      <td>3</td>\n",
              "      <td>1</td>\n",
              "    </tr>\n",
              "    <tr>\n",
              "      <th>2</th>\n",
              "      <td>Bachelors</td>\n",
              "      <td>2014</td>\n",
              "      <td>New Delhi</td>\n",
              "      <td>3</td>\n",
              "      <td>38</td>\n",
              "      <td>Female</td>\n",
              "      <td>No</td>\n",
              "      <td>2</td>\n",
              "      <td>0</td>\n",
              "    </tr>\n",
              "    <tr>\n",
              "      <th>3</th>\n",
              "      <td>Masters</td>\n",
              "      <td>2016</td>\n",
              "      <td>Bangalore</td>\n",
              "      <td>3</td>\n",
              "      <td>27</td>\n",
              "      <td>Male</td>\n",
              "      <td>No</td>\n",
              "      <td>5</td>\n",
              "      <td>1</td>\n",
              "    </tr>\n",
              "    <tr>\n",
              "      <th>4</th>\n",
              "      <td>Masters</td>\n",
              "      <td>2017</td>\n",
              "      <td>Pune</td>\n",
              "      <td>3</td>\n",
              "      <td>24</td>\n",
              "      <td>Male</td>\n",
              "      <td>Yes</td>\n",
              "      <td>2</td>\n",
              "      <td>1</td>\n",
              "    </tr>\n",
              "    <tr>\n",
              "      <th>...</th>\n",
              "      <td>...</td>\n",
              "      <td>...</td>\n",
              "      <td>...</td>\n",
              "      <td>...</td>\n",
              "      <td>...</td>\n",
              "      <td>...</td>\n",
              "      <td>...</td>\n",
              "      <td>...</td>\n",
              "      <td>...</td>\n",
              "    </tr>\n",
              "    <tr>\n",
              "      <th>4648</th>\n",
              "      <td>Bachelors</td>\n",
              "      <td>2013</td>\n",
              "      <td>Bangalore</td>\n",
              "      <td>3</td>\n",
              "      <td>26</td>\n",
              "      <td>Female</td>\n",
              "      <td>No</td>\n",
              "      <td>4</td>\n",
              "      <td>0</td>\n",
              "    </tr>\n",
              "    <tr>\n",
              "      <th>4649</th>\n",
              "      <td>Masters</td>\n",
              "      <td>2013</td>\n",
              "      <td>Pune</td>\n",
              "      <td>2</td>\n",
              "      <td>37</td>\n",
              "      <td>Male</td>\n",
              "      <td>No</td>\n",
              "      <td>2</td>\n",
              "      <td>1</td>\n",
              "    </tr>\n",
              "    <tr>\n",
              "      <th>4650</th>\n",
              "      <td>Masters</td>\n",
              "      <td>2018</td>\n",
              "      <td>New Delhi</td>\n",
              "      <td>3</td>\n",
              "      <td>27</td>\n",
              "      <td>Male</td>\n",
              "      <td>No</td>\n",
              "      <td>5</td>\n",
              "      <td>1</td>\n",
              "    </tr>\n",
              "    <tr>\n",
              "      <th>4651</th>\n",
              "      <td>Bachelors</td>\n",
              "      <td>2012</td>\n",
              "      <td>Bangalore</td>\n",
              "      <td>3</td>\n",
              "      <td>30</td>\n",
              "      <td>Male</td>\n",
              "      <td>Yes</td>\n",
              "      <td>2</td>\n",
              "      <td>0</td>\n",
              "    </tr>\n",
              "    <tr>\n",
              "      <th>4652</th>\n",
              "      <td>Bachelors</td>\n",
              "      <td>2015</td>\n",
              "      <td>Bangalore</td>\n",
              "      <td>3</td>\n",
              "      <td>33</td>\n",
              "      <td>Male</td>\n",
              "      <td>Yes</td>\n",
              "      <td>4</td>\n",
              "      <td>0</td>\n",
              "    </tr>\n",
              "  </tbody>\n",
              "</table>\n",
              "<p>4653 rows × 9 columns</p>\n",
              "</div>\n",
              "    <div class=\"colab-df-buttons\">\n",
              "\n",
              "  <div class=\"colab-df-container\">\n",
              "    <button class=\"colab-df-convert\" onclick=\"convertToInteractive('df-392401c2-a7be-4a84-97b9-4b782920146a')\"\n",
              "            title=\"Convert this dataframe to an interactive table.\"\n",
              "            style=\"display:none;\">\n",
              "\n",
              "  <svg xmlns=\"http://www.w3.org/2000/svg\" height=\"24px\" viewBox=\"0 -960 960 960\">\n",
              "    <path d=\"M120-120v-720h720v720H120Zm60-500h600v-160H180v160Zm220 220h160v-160H400v160Zm0 220h160v-160H400v160ZM180-400h160v-160H180v160Zm440 0h160v-160H620v160ZM180-180h160v-160H180v160Zm440 0h160v-160H620v160Z\"/>\n",
              "  </svg>\n",
              "    </button>\n",
              "\n",
              "  <style>\n",
              "    .colab-df-container {\n",
              "      display:flex;\n",
              "      gap: 12px;\n",
              "    }\n",
              "\n",
              "    .colab-df-convert {\n",
              "      background-color: #E8F0FE;\n",
              "      border: none;\n",
              "      border-radius: 50%;\n",
              "      cursor: pointer;\n",
              "      display: none;\n",
              "      fill: #1967D2;\n",
              "      height: 32px;\n",
              "      padding: 0 0 0 0;\n",
              "      width: 32px;\n",
              "    }\n",
              "\n",
              "    .colab-df-convert:hover {\n",
              "      background-color: #E2EBFA;\n",
              "      box-shadow: 0px 1px 2px rgba(60, 64, 67, 0.3), 0px 1px 3px 1px rgba(60, 64, 67, 0.15);\n",
              "      fill: #174EA6;\n",
              "    }\n",
              "\n",
              "    .colab-df-buttons div {\n",
              "      margin-bottom: 4px;\n",
              "    }\n",
              "\n",
              "    [theme=dark] .colab-df-convert {\n",
              "      background-color: #3B4455;\n",
              "      fill: #D2E3FC;\n",
              "    }\n",
              "\n",
              "    [theme=dark] .colab-df-convert:hover {\n",
              "      background-color: #434B5C;\n",
              "      box-shadow: 0px 1px 3px 1px rgba(0, 0, 0, 0.15);\n",
              "      filter: drop-shadow(0px 1px 2px rgba(0, 0, 0, 0.3));\n",
              "      fill: #FFFFFF;\n",
              "    }\n",
              "  </style>\n",
              "\n",
              "    <script>\n",
              "      const buttonEl =\n",
              "        document.querySelector('#df-392401c2-a7be-4a84-97b9-4b782920146a button.colab-df-convert');\n",
              "      buttonEl.style.display =\n",
              "        google.colab.kernel.accessAllowed ? 'block' : 'none';\n",
              "\n",
              "      async function convertToInteractive(key) {\n",
              "        const element = document.querySelector('#df-392401c2-a7be-4a84-97b9-4b782920146a');\n",
              "        const dataTable =\n",
              "          await google.colab.kernel.invokeFunction('convertToInteractive',\n",
              "                                                    [key], {});\n",
              "        if (!dataTable) return;\n",
              "\n",
              "        const docLinkHtml = 'Like what you see? Visit the ' +\n",
              "          '<a target=\"_blank\" href=https://colab.research.google.com/notebooks/data_table.ipynb>data table notebook</a>'\n",
              "          + ' to learn more about interactive tables.';\n",
              "        element.innerHTML = '';\n",
              "        dataTable['output_type'] = 'display_data';\n",
              "        await google.colab.output.renderOutput(dataTable, element);\n",
              "        const docLink = document.createElement('div');\n",
              "        docLink.innerHTML = docLinkHtml;\n",
              "        element.appendChild(docLink);\n",
              "      }\n",
              "    </script>\n",
              "  </div>\n",
              "\n",
              "\n",
              "<div id=\"df-186f805c-2b01-403e-8155-e8bbe3bec997\">\n",
              "  <button class=\"colab-df-quickchart\" onclick=\"quickchart('df-186f805c-2b01-403e-8155-e8bbe3bec997')\"\n",
              "            title=\"Suggest charts\"\n",
              "            style=\"display:none;\">\n",
              "\n",
              "<svg xmlns=\"http://www.w3.org/2000/svg\" height=\"24px\"viewBox=\"0 0 24 24\"\n",
              "     width=\"24px\">\n",
              "    <g>\n",
              "        <path d=\"M19 3H5c-1.1 0-2 .9-2 2v14c0 1.1.9 2 2 2h14c1.1 0 2-.9 2-2V5c0-1.1-.9-2-2-2zM9 17H7v-7h2v7zm4 0h-2V7h2v10zm4 0h-2v-4h2v4z\"/>\n",
              "    </g>\n",
              "</svg>\n",
              "  </button>\n",
              "\n",
              "<style>\n",
              "  .colab-df-quickchart {\n",
              "      --bg-color: #E8F0FE;\n",
              "      --fill-color: #1967D2;\n",
              "      --hover-bg-color: #E2EBFA;\n",
              "      --hover-fill-color: #174EA6;\n",
              "      --disabled-fill-color: #AAA;\n",
              "      --disabled-bg-color: #DDD;\n",
              "  }\n",
              "\n",
              "  [theme=dark] .colab-df-quickchart {\n",
              "      --bg-color: #3B4455;\n",
              "      --fill-color: #D2E3FC;\n",
              "      --hover-bg-color: #434B5C;\n",
              "      --hover-fill-color: #FFFFFF;\n",
              "      --disabled-bg-color: #3B4455;\n",
              "      --disabled-fill-color: #666;\n",
              "  }\n",
              "\n",
              "  .colab-df-quickchart {\n",
              "    background-color: var(--bg-color);\n",
              "    border: none;\n",
              "    border-radius: 50%;\n",
              "    cursor: pointer;\n",
              "    display: none;\n",
              "    fill: var(--fill-color);\n",
              "    height: 32px;\n",
              "    padding: 0;\n",
              "    width: 32px;\n",
              "  }\n",
              "\n",
              "  .colab-df-quickchart:hover {\n",
              "    background-color: var(--hover-bg-color);\n",
              "    box-shadow: 0 1px 2px rgba(60, 64, 67, 0.3), 0 1px 3px 1px rgba(60, 64, 67, 0.15);\n",
              "    fill: var(--button-hover-fill-color);\n",
              "  }\n",
              "\n",
              "  .colab-df-quickchart-complete:disabled,\n",
              "  .colab-df-quickchart-complete:disabled:hover {\n",
              "    background-color: var(--disabled-bg-color);\n",
              "    fill: var(--disabled-fill-color);\n",
              "    box-shadow: none;\n",
              "  }\n",
              "\n",
              "  .colab-df-spinner {\n",
              "    border: 2px solid var(--fill-color);\n",
              "    border-color: transparent;\n",
              "    border-bottom-color: var(--fill-color);\n",
              "    animation:\n",
              "      spin 1s steps(1) infinite;\n",
              "  }\n",
              "\n",
              "  @keyframes spin {\n",
              "    0% {\n",
              "      border-color: transparent;\n",
              "      border-bottom-color: var(--fill-color);\n",
              "      border-left-color: var(--fill-color);\n",
              "    }\n",
              "    20% {\n",
              "      border-color: transparent;\n",
              "      border-left-color: var(--fill-color);\n",
              "      border-top-color: var(--fill-color);\n",
              "    }\n",
              "    30% {\n",
              "      border-color: transparent;\n",
              "      border-left-color: var(--fill-color);\n",
              "      border-top-color: var(--fill-color);\n",
              "      border-right-color: var(--fill-color);\n",
              "    }\n",
              "    40% {\n",
              "      border-color: transparent;\n",
              "      border-right-color: var(--fill-color);\n",
              "      border-top-color: var(--fill-color);\n",
              "    }\n",
              "    60% {\n",
              "      border-color: transparent;\n",
              "      border-right-color: var(--fill-color);\n",
              "    }\n",
              "    80% {\n",
              "      border-color: transparent;\n",
              "      border-right-color: var(--fill-color);\n",
              "      border-bottom-color: var(--fill-color);\n",
              "    }\n",
              "    90% {\n",
              "      border-color: transparent;\n",
              "      border-bottom-color: var(--fill-color);\n",
              "    }\n",
              "  }\n",
              "</style>\n",
              "\n",
              "  <script>\n",
              "    async function quickchart(key) {\n",
              "      const quickchartButtonEl =\n",
              "        document.querySelector('#' + key + ' button');\n",
              "      quickchartButtonEl.disabled = true;  // To prevent multiple clicks.\n",
              "      quickchartButtonEl.classList.add('colab-df-spinner');\n",
              "      try {\n",
              "        const charts = await google.colab.kernel.invokeFunction(\n",
              "            'suggestCharts', [key], {});\n",
              "      } catch (error) {\n",
              "        console.error('Error during call to suggestCharts:', error);\n",
              "      }\n",
              "      quickchartButtonEl.classList.remove('colab-df-spinner');\n",
              "      quickchartButtonEl.classList.add('colab-df-quickchart-complete');\n",
              "    }\n",
              "    (() => {\n",
              "      let quickchartButtonEl =\n",
              "        document.querySelector('#df-186f805c-2b01-403e-8155-e8bbe3bec997 button');\n",
              "      quickchartButtonEl.style.display =\n",
              "        google.colab.kernel.accessAllowed ? 'block' : 'none';\n",
              "    })();\n",
              "  </script>\n",
              "</div>\n",
              "\n",
              "    </div>\n",
              "  </div>\n"
            ],
            "application/vnd.google.colaboratory.intrinsic+json": {
              "type": "dataframe",
              "summary": "{\n  \"name\": \"df\",\n  \"rows\": 4653,\n  \"fields\": [\n    {\n      \"column\": \"Education\",\n      \"properties\": {\n        \"dtype\": \"category\",\n        \"num_unique_values\": 3,\n        \"samples\": [\n          \"Bachelors\",\n          \"Masters\",\n          \"PHD\"\n        ],\n        \"semantic_type\": \"\",\n        \"description\": \"\"\n      }\n    },\n    {\n      \"column\": \"JoiningYear\",\n      \"properties\": {\n        \"dtype\": \"number\",\n        \"std\": 1,\n        \"min\": 2012,\n        \"max\": 2018,\n        \"num_unique_values\": 7,\n        \"samples\": [\n          2017,\n          2013,\n          2012\n        ],\n        \"semantic_type\": \"\",\n        \"description\": \"\"\n      }\n    },\n    {\n      \"column\": \"City\",\n      \"properties\": {\n        \"dtype\": \"category\",\n        \"num_unique_values\": 3,\n        \"samples\": [\n          \"Bangalore\",\n          \"Pune\",\n          \"New Delhi\"\n        ],\n        \"semantic_type\": \"\",\n        \"description\": \"\"\n      }\n    },\n    {\n      \"column\": \"PaymentTier\",\n      \"properties\": {\n        \"dtype\": \"number\",\n        \"std\": 0,\n        \"min\": 1,\n        \"max\": 3,\n        \"num_unique_values\": 3,\n        \"samples\": [\n          3,\n          1,\n          2\n        ],\n        \"semantic_type\": \"\",\n        \"description\": \"\"\n      }\n    },\n    {\n      \"column\": \"Age\",\n      \"properties\": {\n        \"dtype\": \"number\",\n        \"std\": 4,\n        \"min\": 22,\n        \"max\": 41,\n        \"num_unique_values\": 20,\n        \"samples\": [\n          34,\n          35,\n          26\n        ],\n        \"semantic_type\": \"\",\n        \"description\": \"\"\n      }\n    },\n    {\n      \"column\": \"Gender\",\n      \"properties\": {\n        \"dtype\": \"category\",\n        \"num_unique_values\": 2,\n        \"samples\": [\n          \"Female\",\n          \"Male\"\n        ],\n        \"semantic_type\": \"\",\n        \"description\": \"\"\n      }\n    },\n    {\n      \"column\": \"EverBenched\",\n      \"properties\": {\n        \"dtype\": \"category\",\n        \"num_unique_values\": 2,\n        \"samples\": [\n          \"Yes\",\n          \"No\"\n        ],\n        \"semantic_type\": \"\",\n        \"description\": \"\"\n      }\n    },\n    {\n      \"column\": \"ExperienceInCurrentDomain\",\n      \"properties\": {\n        \"dtype\": \"number\",\n        \"std\": 1,\n        \"min\": 0,\n        \"max\": 7,\n        \"num_unique_values\": 8,\n        \"samples\": [\n          3,\n          4\n        ],\n        \"semantic_type\": \"\",\n        \"description\": \"\"\n      }\n    },\n    {\n      \"column\": \"LeaveOrNot\",\n      \"properties\": {\n        \"dtype\": \"number\",\n        \"std\": 0,\n        \"min\": 0,\n        \"max\": 1,\n        \"num_unique_values\": 2,\n        \"samples\": [\n          1,\n          0\n        ],\n        \"semantic_type\": \"\",\n        \"description\": \"\"\n      }\n    }\n  ]\n}"
            }
          },
          "metadata": {},
          "execution_count": 11
        }
      ]
    },
    {
      "cell_type": "code",
      "source": [
        "df.info()"
      ],
      "metadata": {
        "colab": {
          "base_uri": "https://localhost:8080/"
        },
        "id": "Xp6ubCTGeUyP",
        "outputId": "d2b1068c-cd4b-43cf-e904-317c206b144e"
      },
      "execution_count": null,
      "outputs": [
        {
          "output_type": "stream",
          "name": "stdout",
          "text": [
            "<class 'pandas.core.frame.DataFrame'>\n",
            "RangeIndex: 4653 entries, 0 to 4652\n",
            "Data columns (total 9 columns):\n",
            " #   Column                     Non-Null Count  Dtype \n",
            "---  ------                     --------------  ----- \n",
            " 0   Education                  4653 non-null   object\n",
            " 1   JoiningYear                4653 non-null   int64 \n",
            " 2   City                       4653 non-null   object\n",
            " 3   PaymentTier                4653 non-null   int64 \n",
            " 4   Age                        4653 non-null   int64 \n",
            " 5   Gender                     4653 non-null   object\n",
            " 6   EverBenched                4653 non-null   object\n",
            " 7   ExperienceInCurrentDomain  4653 non-null   int64 \n",
            " 8   LeaveOrNot                 4653 non-null   int64 \n",
            "dtypes: int64(5), object(4)\n",
            "memory usage: 327.3+ KB\n"
          ]
        }
      ]
    },
    {
      "cell_type": "code",
      "source": [
        "import pandas as pd\n",
        "data=pd.read_csv('/content/archive (40).zip')\n",
        "print('missing values')\n",
        "print(data.isnull().sum())\n",
        "df=data.dropna()\n",
        "print(df)\n"
      ],
      "metadata": {
        "colab": {
          "base_uri": "https://localhost:8080/"
        },
        "id": "_5HBI163jeYi",
        "outputId": "92bd37a9-ba6d-44a2-b442-0643809d0b3a"
      },
      "execution_count": null,
      "outputs": [
        {
          "output_type": "stream",
          "name": "stdout",
          "text": [
            "missing values\n",
            "Education                    0\n",
            "JoiningYear                  0\n",
            "City                         0\n",
            "PaymentTier                  0\n",
            "Age                          0\n",
            "Gender                       0\n",
            "EverBenched                  0\n",
            "ExperienceInCurrentDomain    0\n",
            "LeaveOrNot                   0\n",
            "dtype: int64\n",
            "      Education  JoiningYear       City  PaymentTier  Age  Gender EverBenched  \\\n",
            "0     Bachelors         2017  Bangalore            3   34    Male          No   \n",
            "1     Bachelors         2013       Pune            1   28  Female          No   \n",
            "2     Bachelors         2014  New Delhi            3   38  Female          No   \n",
            "3       Masters         2016  Bangalore            3   27    Male          No   \n",
            "4       Masters         2017       Pune            3   24    Male         Yes   \n",
            "...         ...          ...        ...          ...  ...     ...         ...   \n",
            "4648  Bachelors         2013  Bangalore            3   26  Female          No   \n",
            "4649    Masters         2013       Pune            2   37    Male          No   \n",
            "4650    Masters         2018  New Delhi            3   27    Male          No   \n",
            "4651  Bachelors         2012  Bangalore            3   30    Male         Yes   \n",
            "4652  Bachelors         2015  Bangalore            3   33    Male         Yes   \n",
            "\n",
            "      ExperienceInCurrentDomain  LeaveOrNot  \n",
            "0                             0           0  \n",
            "1                             3           1  \n",
            "2                             2           0  \n",
            "3                             5           1  \n",
            "4                             2           1  \n",
            "...                         ...         ...  \n",
            "4648                          4           0  \n",
            "4649                          2           1  \n",
            "4650                          5           1  \n",
            "4651                          2           0  \n",
            "4652                          4           0  \n",
            "\n",
            "[4653 rows x 9 columns]\n"
          ]
        }
      ]
    },
    {
      "cell_type": "markdown",
      "source": [
        "estimate"
      ],
      "metadata": {
        "id": "hAo1DniYBeY_"
      }
    },
    {
      "cell_type": "code",
      "source": [
        "import pandas as pd\n",
        "from sklearn.impute import SimpleImputer\n",
        "df = pd.read_csv('/content/archive (40).zip')\n",
        "imputer = SimpleImputer(strategy='mean')\n",
        "numeric_columns = df.select_dtypes(include=['number']).columns\n",
        "imputer = SimpleImputer(strategy='mean')\n",
        "df_imputed = pd.DataFrame(imputer.fit_transform(df[numeric_columns]), columns=numeric_columns)\n",
        "df_imputed = pd.concat([df.drop(numeric_columns, axis=1), df_imputed], axis=1)\n",
        "print(df_imputed)"
      ],
      "metadata": {
        "colab": {
          "base_uri": "https://localhost:8080/"
        },
        "id": "kwgW2Upyjinu",
        "outputId": "05df65a4-10cc-4abb-f049-1a7c186aa3c0"
      },
      "execution_count": null,
      "outputs": [
        {
          "output_type": "stream",
          "name": "stdout",
          "text": [
            "      Education       City  Gender EverBenched  JoiningYear  PaymentTier  \\\n",
            "0     Bachelors  Bangalore    Male          No       2017.0          3.0   \n",
            "1     Bachelors       Pune  Female          No       2013.0          1.0   \n",
            "2     Bachelors  New Delhi  Female          No       2014.0          3.0   \n",
            "3       Masters  Bangalore    Male          No       2016.0          3.0   \n",
            "4       Masters       Pune    Male         Yes       2017.0          3.0   \n",
            "...         ...        ...     ...         ...          ...          ...   \n",
            "4648  Bachelors  Bangalore  Female          No       2013.0          3.0   \n",
            "4649    Masters       Pune    Male          No       2013.0          2.0   \n",
            "4650    Masters  New Delhi    Male          No       2018.0          3.0   \n",
            "4651  Bachelors  Bangalore    Male         Yes       2012.0          3.0   \n",
            "4652  Bachelors  Bangalore    Male         Yes       2015.0          3.0   \n",
            "\n",
            "       Age  ExperienceInCurrentDomain  LeaveOrNot  \n",
            "0     34.0                        0.0         0.0  \n",
            "1     28.0                        3.0         1.0  \n",
            "2     38.0                        2.0         0.0  \n",
            "3     27.0                        5.0         1.0  \n",
            "4     24.0                        2.0         1.0  \n",
            "...    ...                        ...         ...  \n",
            "4648  26.0                        4.0         0.0  \n",
            "4649  37.0                        2.0         1.0  \n",
            "4650  27.0                        5.0         1.0  \n",
            "4651  30.0                        2.0         0.0  \n",
            "4652  33.0                        4.0         0.0  \n",
            "\n",
            "[4653 rows x 9 columns]\n"
          ]
        }
      ]
    },
    {
      "cell_type": "code",
      "source": [
        "import pandas as pd\n",
        "from sklearn.impute import SimpleImputer\n",
        "df = pd.read_csv('/content/archive (40).zip')\n",
        "imputer = SimpleImputer(strategy='mean')\n",
        "numeric_columns = df.select_dtypes(include=['number']).columns\n",
        "imputer = SimpleImputer(strategy='constant')\n",
        "df_imputed = pd.DataFrame(imputer.fit_transform(df[numeric_columns]), columns=numeric_columns)\n",
        "df_imputed = pd.concat([df.drop(numeric_columns, axis=1), df_imputed], axis=1)\n",
        "print(df_imputed)"
      ],
      "metadata": {
        "colab": {
          "base_uri": "https://localhost:8080/"
        },
        "id": "w49lS0a8j1Zi",
        "outputId": "0bd94e33-8ed9-4e4b-e623-2f6e5a976c09"
      },
      "execution_count": null,
      "outputs": [
        {
          "output_type": "stream",
          "name": "stdout",
          "text": [
            "      Education       City  Gender EverBenched  JoiningYear  PaymentTier  Age  \\\n",
            "0     Bachelors  Bangalore    Male          No         2017            3   34   \n",
            "1     Bachelors       Pune  Female          No         2013            1   28   \n",
            "2     Bachelors  New Delhi  Female          No         2014            3   38   \n",
            "3       Masters  Bangalore    Male          No         2016            3   27   \n",
            "4       Masters       Pune    Male         Yes         2017            3   24   \n",
            "...         ...        ...     ...         ...          ...          ...  ...   \n",
            "4648  Bachelors  Bangalore  Female          No         2013            3   26   \n",
            "4649    Masters       Pune    Male          No         2013            2   37   \n",
            "4650    Masters  New Delhi    Male          No         2018            3   27   \n",
            "4651  Bachelors  Bangalore    Male         Yes         2012            3   30   \n",
            "4652  Bachelors  Bangalore    Male         Yes         2015            3   33   \n",
            "\n",
            "      ExperienceInCurrentDomain  LeaveOrNot  \n",
            "0                             0           0  \n",
            "1                             3           1  \n",
            "2                             2           0  \n",
            "3                             5           1  \n",
            "4                             2           1  \n",
            "...                         ...         ...  \n",
            "4648                          4           0  \n",
            "4649                          2           1  \n",
            "4650                          5           1  \n",
            "4651                          2           0  \n",
            "4652                          4           0  \n",
            "\n",
            "[4653 rows x 9 columns]\n"
          ]
        }
      ]
    },
    {
      "cell_type": "markdown",
      "source": [
        "do nothing"
      ],
      "metadata": {
        "id": "sazKweAYGCAt"
      }
    },
    {
      "cell_type": "code",
      "source": [
        "import pandas as pd\n",
        "data=pd.read_csv(\"/content/archive (40).zip\")\n",
        "df=pd.DataFrame(data)\n",
        "df_no_imputation=df.copy()\n",
        "print(df_no_imputation)"
      ],
      "metadata": {
        "colab": {
          "base_uri": "https://localhost:8080/"
        },
        "id": "6CF3XpB_JHFL",
        "outputId": "3df49dd5-6efe-449a-afb7-2c25144ae3ba"
      },
      "execution_count": null,
      "outputs": [
        {
          "output_type": "stream",
          "name": "stdout",
          "text": [
            "      Education  JoiningYear       City  PaymentTier  Age  Gender EverBenched  \\\n",
            "0     Bachelors         2017  Bangalore            3   34    Male          No   \n",
            "1     Bachelors         2013       Pune            1   28  Female          No   \n",
            "2     Bachelors         2014  New Delhi            3   38  Female          No   \n",
            "3       Masters         2016  Bangalore            3   27    Male          No   \n",
            "4       Masters         2017       Pune            3   24    Male         Yes   \n",
            "...         ...          ...        ...          ...  ...     ...         ...   \n",
            "4648  Bachelors         2013  Bangalore            3   26  Female          No   \n",
            "4649    Masters         2013       Pune            2   37    Male          No   \n",
            "4650    Masters         2018  New Delhi            3   27    Male          No   \n",
            "4651  Bachelors         2012  Bangalore            3   30    Male         Yes   \n",
            "4652  Bachelors         2015  Bangalore            3   33    Male         Yes   \n",
            "\n",
            "      ExperienceInCurrentDomain  LeaveOrNot  \n",
            "0                             0           0  \n",
            "1                             3           1  \n",
            "2                             2           0  \n",
            "3                             5           1  \n",
            "4                             2           1  \n",
            "...                         ...         ...  \n",
            "4648                          4           0  \n",
            "4649                          2           1  \n",
            "4650                          5           1  \n",
            "4651                          2           0  \n",
            "4652                          4           0  \n",
            "\n",
            "[4653 rows x 9 columns]\n"
          ]
        }
      ]
    },
    {
      "cell_type": "markdown",
      "source": [
        "upper&lowercap"
      ],
      "metadata": {
        "id": "nj9UxXK7GUPk"
      }
    },
    {
      "cell_type": "code",
      "source": [
        "import pandas as pd\n",
        "import numpy as np\n",
        "data=pd.read_csv('/content/archive (40).zip')\n",
        "column_name='Age'\n",
        "upper_cap=data[column_name].mean()+3*data[column_name].std()\n",
        "lower_cap=data[column_name].mean()-3*data[column_name].std()\n",
        "data.loc[data[column_name]>upper_cap,column_name]=upper_cap\n",
        "print(data)"
      ],
      "metadata": {
        "colab": {
          "base_uri": "https://localhost:8080/"
        },
        "id": "F8wZN8deGM4d",
        "outputId": "17a16856-c7bd-4cfb-a2c7-224c693a9a83"
      },
      "execution_count": null,
      "outputs": [
        {
          "output_type": "stream",
          "name": "stdout",
          "text": [
            "      Education  JoiningYear       City  PaymentTier   Age  Gender  \\\n",
            "0     Bachelors         2017  Bangalore            3  34.0    Male   \n",
            "1     Bachelors         2013       Pune            1  28.0  Female   \n",
            "2     Bachelors         2014  New Delhi            3  38.0  Female   \n",
            "3       Masters         2016  Bangalore            3  27.0    Male   \n",
            "4       Masters         2017       Pune            3  24.0    Male   \n",
            "...         ...          ...        ...          ...   ...     ...   \n",
            "4648  Bachelors         2013  Bangalore            3  26.0  Female   \n",
            "4649    Masters         2013       Pune            2  37.0    Male   \n",
            "4650    Masters         2018  New Delhi            3  27.0    Male   \n",
            "4651  Bachelors         2012  Bangalore            3  30.0    Male   \n",
            "4652  Bachelors         2015  Bangalore            3  33.0    Male   \n",
            "\n",
            "     EverBenched  ExperienceInCurrentDomain  LeaveOrNot  \n",
            "0             No                          0           0  \n",
            "1             No                          3           1  \n",
            "2             No                          2           0  \n",
            "3             No                          5           1  \n",
            "4            Yes                          2           1  \n",
            "...          ...                        ...         ...  \n",
            "4648          No                          4           0  \n",
            "4649          No                          2           1  \n",
            "4650          No                          5           1  \n",
            "4651         Yes                          2           0  \n",
            "4652         Yes                          4           0  \n",
            "\n",
            "[4653 rows x 9 columns]\n"
          ]
        },
        {
          "output_type": "stream",
          "name": "stderr",
          "text": [
            "<ipython-input-22-305bf9d9fb6c>:7: FutureWarning: Setting an item of incompatible dtype is deprecated and will raise in a future error of pandas. Value '43.87155567599199' has dtype incompatible with int64, please explicitly cast to a compatible dtype first.\n",
            "  data.loc[data[column_name]>upper_cap,column_name]=upper_cap\n"
          ]
        }
      ]
    },
    {
      "cell_type": "markdown",
      "source": [
        "logtranformation"
      ],
      "metadata": {
        "id": "DDBHbpASGknK"
      }
    },
    {
      "cell_type": "code",
      "source": [
        "import pandas as pd\n",
        "import numpy as np\n",
        "data = pd.read_csv('/content/archive (40).zip')\n",
        "df = pd.DataFrame(data)\n",
        "df['Age'] = pd.to_numeric(df['Age'],errors='coerce')\n",
        "df['log_order_Quality'] = df['Age'].apply(lambda x: np.log(x) if x> 0 else 0)\n",
        "print(df)"
      ],
      "metadata": {
        "colab": {
          "base_uri": "https://localhost:8080/"
        },
        "id": "9SJ1wLPnGowF",
        "outputId": "5323467a-abf6-47de-98a9-360a4df93e30"
      },
      "execution_count": null,
      "outputs": [
        {
          "output_type": "stream",
          "name": "stdout",
          "text": [
            "      Education  JoiningYear       City  PaymentTier  Age  Gender EverBenched  \\\n",
            "0     Bachelors         2017  Bangalore            3   34    Male          No   \n",
            "1     Bachelors         2013       Pune            1   28  Female          No   \n",
            "2     Bachelors         2014  New Delhi            3   38  Female          No   \n",
            "3       Masters         2016  Bangalore            3   27    Male          No   \n",
            "4       Masters         2017       Pune            3   24    Male         Yes   \n",
            "...         ...          ...        ...          ...  ...     ...         ...   \n",
            "4648  Bachelors         2013  Bangalore            3   26  Female          No   \n",
            "4649    Masters         2013       Pune            2   37    Male          No   \n",
            "4650    Masters         2018  New Delhi            3   27    Male          No   \n",
            "4651  Bachelors         2012  Bangalore            3   30    Male         Yes   \n",
            "4652  Bachelors         2015  Bangalore            3   33    Male         Yes   \n",
            "\n",
            "      ExperienceInCurrentDomain  LeaveOrNot  log_order_Quality  \n",
            "0                             0           0           3.526361  \n",
            "1                             3           1           3.332205  \n",
            "2                             2           0           3.637586  \n",
            "3                             5           1           3.295837  \n",
            "4                             2           1           3.178054  \n",
            "...                         ...         ...                ...  \n",
            "4648                          4           0           3.258097  \n",
            "4649                          2           1           3.610918  \n",
            "4650                          5           1           3.295837  \n",
            "4651                          2           0           3.401197  \n",
            "4652                          4           0           3.496508  \n",
            "\n",
            "[4653 rows x 10 columns]\n"
          ]
        }
      ]
    },
    {
      "cell_type": "markdown",
      "source": [
        "bivariate"
      ],
      "metadata": {
        "id": "WVBIOQ25kDy4"
      }
    },
    {
      "cell_type": "code",
      "source": [
        "import pandas as pd\n",
        "import numpy as np\n",
        "import matplotlib.pyplot as plt\n",
        "data=pd.read_csv('/content/archive (40).zip')\n",
        "column1=data['LeaveOrNot']\n",
        "column2=data['Age']\n",
        "mean1=column1.mean()\n",
        "mean2=column2.mean()\n",
        "correlation=np.corrcoef(column1,column2)[0,1]\n",
        "print(\"Means:\")\n",
        "print(\"LeaveOrNot\",mean1)\n",
        "print(\" Age\",mean1)\n",
        "print(\"Correlation Coefficient:\",correlation)\n",
        "\n",
        "\n"
      ],
      "metadata": {
        "colab": {
          "base_uri": "https://localhost:8080/"
        },
        "id": "qq-oWEqtkDY4",
        "outputId": "07225bbb-0bd5-47b2-b885-336ef66211d6"
      },
      "execution_count": null,
      "outputs": [
        {
          "output_type": "stream",
          "name": "stdout",
          "text": [
            "Means:\n",
            "LeaveOrNot 0.3438641736514077\n",
            " Age 0.3438641736514077\n",
            "Correlation Coefficient: -0.051125890022982866\n"
          ]
        }
      ]
    },
    {
      "cell_type": "code",
      "source": [
        "import pandas as pd\n",
        "path=('/content/archive (40).zip')\n",
        "import matplotlib.pyplot as plt\n",
        "df=pd.read_csv(path)\n",
        "data=df.get('Age')\n",
        "z_scores=(data-data.mean())/data.std()\n",
        "outliers=data[abs(z_scores)>3]\n",
        "print(\"univariate outliers:\",outliers)\n",
        "plt.scatter(df.index[df['Age']],df['LeaveOrNot'],color='orange',label='Outliers')\n",
        "plt.xlabel('LeaveOrNot')\n",
        "plt.ylabel('Age')\n",
        "plt.title('Univariate outlier')\n",
        "plt.legend()\n",
        "plt.grid(True)\n",
        "plt.show()"
      ],
      "metadata": {
        "colab": {
          "base_uri": "https://localhost:8080/",
          "height": 489
        },
        "id": "GQmy3FXGplMe",
        "outputId": "b52adc93-1543-4c82-b904-8a26e6cf8a34"
      },
      "execution_count": null,
      "outputs": [
        {
          "output_type": "stream",
          "name": "stdout",
          "text": [
            "univariate outliers: Series([], Name: Age, dtype: int64)\n"
          ]
        },
        {
          "output_type": "display_data",
          "data": {
            "text/plain": [
              "<Figure size 640x480 with 1 Axes>"
            ],
            "image/png": "[encoded data removed]"
          },
          "metadata": {}
        }
      ]
    },
    {
      "cell_type": "markdown",
      "source": [
        "Time series"
      ],
      "metadata": {
        "id": "-EtCxT62Jrpl"
      }
    },
    {
      "cell_type": "code",
      "source": [
        "import pandas as pd\n",
        "import numpy as np\n",
        "df=pd.read_csv('/content/archive (40).zip')\n",
        "data=df.select_dtypes(include=['float','int'])\n",
        "rolling_mean = data.rolling(window=3).mean()\n",
        "rolling_std = data.rolling(window=3).std()\n",
        "outliers = data[(data - rolling_mean).abs()> -1 * rolling_std]\n",
        "print(\"Time series outliers:\",outliers)"
      ],
      "metadata": {
        "colab": {
          "base_uri": "https://localhost:8080/"
        },
        "id": "et0rhpTEp2au",
        "outputId": "e9838e10-d591-4f93-c97e-965bb1930066"
      },
      "execution_count": null,
      "outputs": [
        {
          "output_type": "stream",
          "name": "stdout",
          "text": [
            "Time series outliers:       JoiningYear  PaymentTier   Age  ExperienceInCurrentDomain  LeaveOrNot\n",
            "0             NaN          NaN   NaN                        NaN         NaN\n",
            "1             NaN          NaN   NaN                        NaN         NaN\n",
            "2          2014.0          3.0  38.0                        2.0         0.0\n",
            "3          2016.0          3.0  27.0                        5.0         1.0\n",
            "4          2017.0          NaN  24.0                        2.0         1.0\n",
            "...           ...          ...   ...                        ...         ...\n",
            "4648       2013.0          NaN  26.0                        4.0         NaN\n",
            "4649       2013.0          2.0  37.0                        2.0         1.0\n",
            "4650       2018.0          3.0  27.0                        5.0         1.0\n",
            "4651       2012.0          3.0  30.0                        2.0         0.0\n",
            "4652       2015.0          NaN  33.0                        4.0         0.0\n",
            "\n",
            "[4653 rows x 5 columns]\n"
          ]
        }
      ]
    },
    {
      "cell_type": "markdown",
      "source": [
        "featureselection"
      ],
      "metadata": {
        "id": "R3yrW6SEG62s"
      }
    },
    {
      "cell_type": "code",
      "source": [
        "import pandas as pd\n",
        "from sklearn.feature_selection import SelectKBest,f_classif, mutual_info_classif\n",
        "from sklearn.preprocessing import LabelEncoder\n",
        "data=pd.read_csv('/content/archive (40).zip')\n",
        "y=data['Age']\n",
        "x=data.drop(['Age','LeaveOrNot'], axis=1)\n",
        "categorical__features=x.select_dtypes(include=['object']).columns\n",
        "for feature in categorical__features:\n",
        "  le = LabelEncoder()\n",
        "  x[feature]= le.fit_transform(x[feature])\n",
        "selector = SelectKBest(mutual_info_classif, k=5)\n",
        "selected_features = selector.fit_transform(x,y)\n",
        "selected_features_names = x.columns[selector.get_support()]\n",
        "print(selected_features_names)"
      ],
      "metadata": {
        "colab": {
          "base_uri": "https://localhost:8080/"
        },
        "id": "ciOeGCtJG7wT",
        "outputId": "b9b4d92e-adfb-49c0-e7b9-370a3a9dcc39"
      },
      "execution_count": null,
      "outputs": [
        {
          "output_type": "stream",
          "name": "stdout",
          "text": [
            "Index(['Education', 'City', 'Gender', 'EverBenched',\n",
            "       'ExperienceInCurrentDomain'],\n",
            "      dtype='object')\n"
          ]
        }
      ]
    },
    {
      "cell_type": "markdown",
      "source": [
        "add an attribute"
      ],
      "metadata": {
        "id": "yvto7xaJqcV-"
      }
    },
    {
      "cell_type": "code",
      "source": [
        "import pandas as pd\n",
        "df=pd.read_csv('/content/archive (40).zip')\n",
        "df['name']=[value for value in range(len(df))]\n",
        "df.to_csv('updated_data.csv',index=False)\n",
        "print(df)"
      ],
      "metadata": {
        "colab": {
          "base_uri": "https://localhost:8080/"
        },
        "id": "UFtMJNd7qdr1",
        "outputId": "14471316-7fb7-4e93-8899-26a240ced590"
      },
      "execution_count": null,
      "outputs": [
        {
          "output_type": "stream",
          "name": "stdout",
          "text": [
            "      Education  JoiningYear       City  PaymentTier  Age  Gender EverBenched  \\\n",
            "0     Bachelors         2017  Bangalore            3   34    Male          No   \n",
            "1     Bachelors         2013       Pune            1   28  Female          No   \n",
            "2     Bachelors         2014  New Delhi            3   38  Female          No   \n",
            "3       Masters         2016  Bangalore            3   27    Male          No   \n",
            "4       Masters         2017       Pune            3   24    Male         Yes   \n",
            "...         ...          ...        ...          ...  ...     ...         ...   \n",
            "4648  Bachelors         2013  Bangalore            3   26  Female          No   \n",
            "4649    Masters         2013       Pune            2   37    Male          No   \n",
            "4650    Masters         2018  New Delhi            3   27    Male          No   \n",
            "4651  Bachelors         2012  Bangalore            3   30    Male         Yes   \n",
            "4652  Bachelors         2015  Bangalore            3   33    Male         Yes   \n",
            "\n",
            "      ExperienceInCurrentDomain  LeaveOrNot  name  \n",
            "0                             0           0     0  \n",
            "1                             3           1     1  \n",
            "2                             2           0     2  \n",
            "3                             5           1     3  \n",
            "4                             2           1     4  \n",
            "...                         ...         ...   ...  \n",
            "4648                          4           0  4648  \n",
            "4649                          2           1  4649  \n",
            "4650                          5           1  4650  \n",
            "4651                          2           0  4651  \n",
            "4652                          4           0  4652  \n",
            "\n",
            "[4653 rows x 10 columns]\n"
          ]
        }
      ]
    },
    {
      "cell_type": "markdown",
      "source": [
        "reduction"
      ],
      "metadata": {
        "id": "HzIMC29sqwmo"
      }
    },
    {
      "cell_type": "code",
      "source": [
        "import pandas as pd\n",
        "data=pd.read_csv('/content/archive (40).zip')\n",
        "reduced_data=data.sample(frac=0.1,random_state=42)\n",
        "print(reduced_data)"
      ],
      "metadata": {
        "colab": {
          "base_uri": "https://localhost:8080/"
        },
        "id": "cusFv-RNqmIG",
        "outputId": "223f9572-4961-43d3-bccb-c25dda4328dc"
      },
      "execution_count": null,
      "outputs": [
        {
          "output_type": "stream",
          "name": "stdout",
          "text": [
            "      Education  JoiningYear       City  PaymentTier  Age  Gender EverBenched  \\\n",
            "297   Bachelors         2016  Bangalore            3   24  Female          No   \n",
            "2705  Bachelors         2013  Bangalore            3   26  Female          No   \n",
            "501   Bachelors         2017  New Delhi            2   25  Female          No   \n",
            "1272    Masters         2015       Pune            2   28  Female          No   \n",
            "3956  Bachelors         2012  Bangalore            3   33    Male          No   \n",
            "...         ...          ...        ...          ...  ...     ...         ...   \n",
            "415   Bachelors         2012       Pune            3   27  Female          No   \n",
            "2534  Bachelors         2015  Bangalore            3   30    Male          No   \n",
            "45    Bachelors         2014  Bangalore            3   23  Female          No   \n",
            "3253  Bachelors         2012  Bangalore            3   40    Male          No   \n",
            "1813  Bachelors         2015  New Delhi            3   25    Male          No   \n",
            "\n",
            "      ExperienceInCurrentDomain  LeaveOrNot  \n",
            "297                           2           1  \n",
            "2705                          4           0  \n",
            "501                           3           1  \n",
            "1272                          2           0  \n",
            "3956                          1           0  \n",
            "...                         ...         ...  \n",
            "415                           5           0  \n",
            "2534                          0           0  \n",
            "45                            1           0  \n",
            "3253                          0           0  \n",
            "1813                          3           0  \n",
            "\n",
            "[465 rows x 9 columns]\n"
          ]
        }
      ]
    },
    {
      "cell_type": "code",
      "source": [
        "import pandas as pd\n",
        "df=pd.read_csv('/content/archive (40).zip')"
      ],
      "metadata": {
        "id": "_M6FPw2bKYPT"
      },
      "execution_count": null,
      "outputs": []
    }
  ]
}