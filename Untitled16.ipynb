{
  "nbformat": 4,
  "nbformat_minor": 0,
  "metadata": {
    "colab": {
      "provenance": [],
      "authorship_tag": "ABX9TyOToGW/wsBy9ZTAzHEtKwud",
      "include_colab_link": true
    },
    "kernelspec": {
      "name": "python3",
      "display_name": "Python 3"
    },
    "language_info": {
      "name": "python"
    }
  },
  "cells": [
    {
      "cell_type": "markdown",
      "metadata": {
        "id": "view-in-github",
        "colab_type": "text"
      },
      "source": [
        "<a href=\"https://colab.research.google.com/github/Anjalikk004/AIML/blob/main/Untitled16.ipynb\" target=\"_parent\"><img src=\"https://colab.research.google.com/assets/colab-badge.svg\" alt=\"Open In Colab\"/></a>"
      ]
    },
    {
      "cell_type": "markdown",
      "source": [
        "keep missing values"
      ],
      "metadata": {
        "id": "HYy4yiXjnHbV"
      }
    },
    {
      "cell_type": "code",
      "execution_count": 31,
      "metadata": {
        "colab": {
          "base_uri": "https://localhost:8080/"
        },
        "id": "sowtTBvNkTtT",
        "outputId": "63f14fa3-20a7-4169-bb23-0c1e4c2106bc"
      },
      "outputs": [
        {
          "output_type": "stream",
          "name": "stdout",
          "text": [
            "Approch 1: keep missing value as is\n",
            "        Fan  Refrigerator  AirConditioner  Television  Monitor  MotorPump  \\\n",
            "0      16.0            23             NaN           6        1        0.0   \n",
            "1      19.0            22             NaN           3        1        0.0   \n",
            "2       7.0            20             NaN           6        7        0.0   \n",
            "3       7.0            22             NaN          21        1        0.0   \n",
            "4      11.0            23             NaN          11        1        NaN   \n",
            "...     ...           ...             ...         ...      ...        ...   \n",
            "45340  18.0            22             3.0          22        1        0.0   \n",
            "45341  23.0            23             2.0           6       12        0.0   \n",
            "45342  22.0            22             2.0          20        1        0.0   \n",
            "45343   8.0            21             2.0          22        7        0.0   \n",
            "45344   8.0            17             2.0           4        1        0.0   \n",
            "\n",
            "       Month       City                                            Company  \\\n",
            "0         10  Hyderabad                            Tata Power Company Ltd.   \n",
            "1          5   Vadodara                                               NHPC   \n",
            "2          7     Shimla                                    Jyoti Structure   \n",
            "3          6     Mumbai                                    Power Grid Corp   \n",
            "4          2     Mumbai          Ratnagiri Gas and Power Pvt. Ltd. (RGPPL)   \n",
            "...      ...        ...                                                ...   \n",
            "45340      9  Ahmedabad  Maha Transco – Maharashtra State Electricity T...   \n",
            "45341      2  New Delhi                                       Orient Green   \n",
            "45342      1  New Delhi                               GE T&D India Limited   \n",
            "45343     12  Ratnagiri                                 TransRail Lighting   \n",
            "45344      1    Gurgaon                    L&T Transmission & Distribution   \n",
            "\n",
            "       MonthlyHours  TariffRate  ElectricityBill  \n",
            "0               384         8.4           3225.6  \n",
            "1               488         7.8           3806.4  \n",
            "2               416         7.7           3203.2  \n",
            "3               475         9.2           4370.0  \n",
            "4               457         9.2           4204.4  \n",
            "...             ...         ...              ...  \n",
            "45340           764         7.9           6035.6  \n",
            "45341           572         8.5           4862.0  \n",
            "45342           609         8.5           5176.5  \n",
            "45343           748         7.4           5535.2  \n",
            "45344           427         8.3           3544.1  \n",
            "\n",
            "[45345 rows x 12 columns]\n"
          ]
        }
      ],
      "source": [
        "import pandas as pd\n",
        "df=pd.read_csv(\"/content/electric bill 1.csv\")\n",
        "print(\"Approch 1: keep missing value as is\")\n",
        "print(df)\n"
      ]
    },
    {
      "cell_type": "code",
      "source": [
        "non_numeric_columns=df.select_dtypes(exclude=['number']).columns\n",
        "df[non_numeric_columns]=df[non_numeric_columns].fillna('z')\n",
        "print(df)"
      ],
      "metadata": {
        "colab": {
          "base_uri": "https://localhost:8080/"
        },
        "id": "UwJCs41EmScc",
        "outputId": "9419d258-a7ab-40e8-c4b9-36ca23690d6b"
      },
      "execution_count": 30,
      "outputs": [
        {
          "output_type": "stream",
          "name": "stdout",
          "text": [
            "        Fan  Refrigerator  AirConditioner  Television  Monitor  MotorPump  \\\n",
            "19     13.0            22             1.0          21       12        0.0   \n",
            "20     23.0            23             0.0          15        1        0.0   \n",
            "21     20.0            22             3.0           7       12        0.0   \n",
            "22     23.0            22             2.0          14        1        0.0   \n",
            "23      9.0            22             3.0           3        1        0.0   \n",
            "...     ...           ...             ...         ...      ...        ...   \n",
            "45340  18.0            22             3.0          22        1        0.0   \n",
            "45341  23.0            23             2.0           6       12        0.0   \n",
            "45342  22.0            22             2.0          20        1        0.0   \n",
            "45343   8.0            21             2.0          22        7        0.0   \n",
            "45344   8.0            17             2.0           4        1        0.0   \n",
            "\n",
            "       Month       City                                            Company  \\\n",
            "19        11  New Delhi  Maha Transco – Maharashtra State Electricity T...   \n",
            "20         8     Mumbai                    Sterlite Power Transmission Ltd   \n",
            "21         2  Ratnagiri                    L&T Transmission & Distribution   \n",
            "22         7  Faridabad                                      Guj Ind Power   \n",
            "23         4  Faridabad                                    Jyoti Structure   \n",
            "...      ...        ...                                                ...   \n",
            "45340      9  Ahmedabad  Maha Transco – Maharashtra State Electricity T...   \n",
            "45341      2  New Delhi                                       Orient Green   \n",
            "45342      1  New Delhi                               GE T&D India Limited   \n",
            "45343     12  Ratnagiri                                 TransRail Lighting   \n",
            "45344      1    Gurgaon                    L&T Transmission & Distribution   \n",
            "\n",
            "       MonthlyHours  TariffRate  ElectricityBill  \n",
            "19              646         8.5           5491.0  \n",
            "20              476         9.2           4379.2  \n",
            "21              659         7.4           4876.6  \n",
            "22              631         8.1           5111.1  \n",
            "23              395         8.1           3199.5  \n",
            "...             ...         ...              ...  \n",
            "45340           764         7.9           6035.6  \n",
            "45341           572         8.5           4862.0  \n",
            "45342           609         8.5           5176.5  \n",
            "45343           748         7.4           5535.2  \n",
            "45344           427         8.3           3544.1  \n",
            "\n",
            "[45326 rows x 12 columns]\n"
          ]
        }
      ]
    },
    {
      "cell_type": "code",
      "source": [
        "import pandas as pd\n",
        "data=pd.read_csv(\"/content/electric bill 1.csv\")\n",
        "df=df.dropna(axis=1)\n",
        "print(df)\n"
      ],
      "metadata": {
        "colab": {
          "base_uri": "https://localhost:8080/"
        },
        "id": "lllulW0hmz5T",
        "outputId": "2b9317fc-92e6-45ef-a442-c51e8fdf3f0f"
      },
      "execution_count": 28,
      "outputs": [
        {
          "output_type": "stream",
          "name": "stdout",
          "text": [
            "        Fan  Refrigerator  AirConditioner  Television  Monitor  MotorPump  \\\n",
            "19     13.0            22             1.0          21       12        0.0   \n",
            "20     23.0            23             0.0          15        1        0.0   \n",
            "21     20.0            22             3.0           7       12        0.0   \n",
            "22     23.0            22             2.0          14        1        0.0   \n",
            "23      9.0            22             3.0           3        1        0.0   \n",
            "...     ...           ...             ...         ...      ...        ...   \n",
            "45340  18.0            22             3.0          22        1        0.0   \n",
            "45341  23.0            23             2.0           6       12        0.0   \n",
            "45342  22.0            22             2.0          20        1        0.0   \n",
            "45343   8.0            21             2.0          22        7        0.0   \n",
            "45344   8.0            17             2.0           4        1        0.0   \n",
            "\n",
            "       Month       City                                            Company  \\\n",
            "19        11  New Delhi  Maha Transco – Maharashtra State Electricity T...   \n",
            "20         8     Mumbai                    Sterlite Power Transmission Ltd   \n",
            "21         2  Ratnagiri                    L&T Transmission & Distribution   \n",
            "22         7  Faridabad                                      Guj Ind Power   \n",
            "23         4  Faridabad                                    Jyoti Structure   \n",
            "...      ...        ...                                                ...   \n",
            "45340      9  Ahmedabad  Maha Transco – Maharashtra State Electricity T...   \n",
            "45341      2  New Delhi                                       Orient Green   \n",
            "45342      1  New Delhi                               GE T&D India Limited   \n",
            "45343     12  Ratnagiri                                 TransRail Lighting   \n",
            "45344      1    Gurgaon                    L&T Transmission & Distribution   \n",
            "\n",
            "       MonthlyHours  TariffRate  ElectricityBill  \n",
            "19              646         8.5           5491.0  \n",
            "20              476         9.2           4379.2  \n",
            "21              659         7.4           4876.6  \n",
            "22              631         8.1           5111.1  \n",
            "23              395         8.1           3199.5  \n",
            "...             ...         ...              ...  \n",
            "45340           764         7.9           6035.6  \n",
            "45341           572         8.5           4862.0  \n",
            "45342           609         8.5           5176.5  \n",
            "45343           748         7.4           5535.2  \n",
            "45344           427         8.3           3544.1  \n",
            "\n",
            "[45326 rows x 12 columns]\n"
          ]
        }
      ]
    },
    {
      "cell_type": "code",
      "source": [
        "import pandas as pd\n",
        "data=pd.read_csv(\"/content/electric bill 1.csv\")\n",
        "print('missing values')\n",
        "print(data.isnull().sum())\n",
        "df=data.dropna()\n",
        "print(df)"
      ],
      "metadata": {
        "colab": {
          "base_uri": "https://localhost:8080/"
        },
        "id": "gKNe0LQsvYQn",
        "outputId": "46869715-f7c8-46ec-d3ee-ecc76c5d958a"
      },
      "execution_count": 27,
      "outputs": [
        {
          "output_type": "stream",
          "name": "stdout",
          "text": [
            "missing values\n",
            "Fan                 6\n",
            "Refrigerator        0\n",
            "AirConditioner     13\n",
            "Television          0\n",
            "Monitor             0\n",
            "MotorPump           1\n",
            "Month               0\n",
            "City                0\n",
            "Company             0\n",
            "MonthlyHours        0\n",
            "TariffRate          0\n",
            "ElectricityBill     0\n",
            "dtype: int64\n",
            "        Fan  Refrigerator  AirConditioner  Television  Monitor  MotorPump  \\\n",
            "19     13.0            22             1.0          21       12        0.0   \n",
            "20     23.0            23             0.0          15        1        0.0   \n",
            "21     20.0            22             3.0           7       12        0.0   \n",
            "22     23.0            22             2.0          14        1        0.0   \n",
            "23      9.0            22             3.0           3        1        0.0   \n",
            "...     ...           ...             ...         ...      ...        ...   \n",
            "45340  18.0            22             3.0          22        1        0.0   \n",
            "45341  23.0            23             2.0           6       12        0.0   \n",
            "45342  22.0            22             2.0          20        1        0.0   \n",
            "45343   8.0            21             2.0          22        7        0.0   \n",
            "45344   8.0            17             2.0           4        1        0.0   \n",
            "\n",
            "       Month       City                                            Company  \\\n",
            "19        11  New Delhi  Maha Transco – Maharashtra State Electricity T...   \n",
            "20         8     Mumbai                    Sterlite Power Transmission Ltd   \n",
            "21         2  Ratnagiri                    L&T Transmission & Distribution   \n",
            "22         7  Faridabad                                      Guj Ind Power   \n",
            "23         4  Faridabad                                    Jyoti Structure   \n",
            "...      ...        ...                                                ...   \n",
            "45340      9  Ahmedabad  Maha Transco – Maharashtra State Electricity T...   \n",
            "45341      2  New Delhi                                       Orient Green   \n",
            "45342      1  New Delhi                               GE T&D India Limited   \n",
            "45343     12  Ratnagiri                                 TransRail Lighting   \n",
            "45344      1    Gurgaon                    L&T Transmission & Distribution   \n",
            "\n",
            "       MonthlyHours  TariffRate  ElectricityBill  \n",
            "19              646         8.5           5491.0  \n",
            "20              476         9.2           4379.2  \n",
            "21              659         7.4           4876.6  \n",
            "22              631         8.1           5111.1  \n",
            "23              395         8.1           3199.5  \n",
            "...             ...         ...              ...  \n",
            "45340           764         7.9           6035.6  \n",
            "45341           572         8.5           4862.0  \n",
            "45342           609         8.5           5176.5  \n",
            "45343           748         7.4           5535.2  \n",
            "45344           427         8.3           3544.1  \n",
            "\n",
            "[45326 rows x 12 columns]\n"
          ]
        }
      ]
    },
    {
      "cell_type": "markdown",
      "source": [
        "dealing with outliers"
      ],
      "metadata": {
        "id": "tdmpnDjNnNbD"
      }
    },
    {
      "cell_type": "markdown",
      "source": [
        "do nothing"
      ],
      "metadata": {
        "id": "U5ly1Y6RnZaL"
      }
    },
    {
      "cell_type": "code",
      "source": [
        "import pandas as pd\n",
        "data=pd.read_csv(\"/content/electric bill 1.csv\")\n",
        "df=pd.DataFrame(data)\n",
        "df_no_imputation=df.copy()\n",
        "print(df_no_imputation)"
      ],
      "metadata": {
        "colab": {
          "base_uri": "https://localhost:8080/"
        },
        "id": "VON7tyvQnDli",
        "outputId": "e02491fe-c9f8-42ed-9684-fd7dd60ded09"
      },
      "execution_count": null,
      "outputs": [
        {
          "output_type": "stream",
          "name": "stdout",
          "text": [
            "        Fan  Refrigerator  AirConditioner  Television  Monitor  MotorPump  \\\n",
            "0      16.0            23             NaN           6        1        0.0   \n",
            "1      19.0            22             NaN           3        1        0.0   \n",
            "2       7.0            20             NaN           6        7        0.0   \n",
            "3       7.0            22             NaN          21        1        0.0   \n",
            "4      11.0            23             NaN          11        1        NaN   \n",
            "...     ...           ...             ...         ...      ...        ...   \n",
            "45340  18.0            22             3.0          22        1        0.0   \n",
            "45341  23.0            23             2.0           6       12        0.0   \n",
            "45342  22.0            22             2.0          20        1        0.0   \n",
            "45343   8.0            21             2.0          22        7        0.0   \n",
            "45344   8.0            17             2.0           4        1        0.0   \n",
            "\n",
            "       Month       City                                            Company  \\\n",
            "0         10  Hyderabad                            Tata Power Company Ltd.   \n",
            "1          5   Vadodara                                               NHPC   \n",
            "2          7     Shimla                                    Jyoti Structure   \n",
            "3          6     Mumbai                                    Power Grid Corp   \n",
            "4          2     Mumbai          Ratnagiri Gas and Power Pvt. Ltd. (RGPPL)   \n",
            "...      ...        ...                                                ...   \n",
            "45340      9  Ahmedabad  Maha Transco – Maharashtra State Electricity T...   \n",
            "45341      2  New Delhi                                       Orient Green   \n",
            "45342      1  New Delhi                               GE T&D India Limited   \n",
            "45343     12  Ratnagiri                                 TransRail Lighting   \n",
            "45344      1    Gurgaon                    L&T Transmission & Distribution   \n",
            "\n",
            "       MonthlyHours  TariffRate  ElectricityBill  \n",
            "0               384         8.4           3225.6  \n",
            "1               488         7.8           3806.4  \n",
            "2               416         7.7           3203.2  \n",
            "3               475         9.2           4370.0  \n",
            "4               457         9.2           4204.4  \n",
            "...             ...         ...              ...  \n",
            "45340           764         7.9           6035.6  \n",
            "45341           572         8.5           4862.0  \n",
            "45342           609         8.5           5176.5  \n",
            "45343           748         7.4           5535.2  \n",
            "45344           427         8.3           3544.1  \n",
            "\n",
            "[45345 rows x 12 columns]\n"
          ]
        }
      ]
    },
    {
      "cell_type": "markdown",
      "source": [
        "upper and lowercap\n"
      ],
      "metadata": {
        "id": "E3W9N_wnn_Bq"
      }
    },
    {
      "cell_type": "code",
      "source": [
        "import pandas as pd\n",
        "import numpy as np\n",
        "data=pd.read_csv('/content/electric bill 1.csv')\n",
        "column_name='Fan'\n",
        "upper_cap=data[column_name].mean()+3*data[column_name].std()\n",
        "lower_cap=data[column_name].mean()-3*data[column_name].std()\n",
        "data.loc[data[column_name]>upper_cap,column_name]=upper_cap\n",
        "print(data)"
      ],
      "metadata": {
        "colab": {
          "base_uri": "https://localhost:8080/"
        },
        "id": "MH-il1owsFoV",
        "outputId": "1d8a868f-dfa4-4491-c355-9f95a5bb673f"
      },
      "execution_count": null,
      "outputs": [
        {
          "output_type": "stream",
          "name": "stdout",
          "text": [
            "        Fan  Refrigerator  AirConditioner  Television  Monitor  MotorPump  \\\n",
            "0      16.0            23             NaN           6        1        0.0   \n",
            "1      19.0            22             NaN           3        1        0.0   \n",
            "2       7.0            20             NaN           6        7        0.0   \n",
            "3       7.0            22             NaN          21        1        0.0   \n",
            "4      11.0            23             NaN          11        1        NaN   \n",
            "...     ...           ...             ...         ...      ...        ...   \n",
            "45340  18.0            22             3.0          22        1        0.0   \n",
            "45341  23.0            23             2.0           6       12        0.0   \n",
            "45342  22.0            22             2.0          20        1        0.0   \n",
            "45343   8.0            21             2.0          22        7        0.0   \n",
            "45344   8.0            17             2.0           4        1        0.0   \n",
            "\n",
            "       Month       City                                            Company  \\\n",
            "0         10  Hyderabad                            Tata Power Company Ltd.   \n",
            "1          5   Vadodara                                               NHPC   \n",
            "2          7     Shimla                                    Jyoti Structure   \n",
            "3          6     Mumbai                                    Power Grid Corp   \n",
            "4          2     Mumbai          Ratnagiri Gas and Power Pvt. Ltd. (RGPPL)   \n",
            "...      ...        ...                                                ...   \n",
            "45340      9  Ahmedabad  Maha Transco – Maharashtra State Electricity T...   \n",
            "45341      2  New Delhi                                       Orient Green   \n",
            "45342      1  New Delhi                               GE T&D India Limited   \n",
            "45343     12  Ratnagiri                                 TransRail Lighting   \n",
            "45344      1    Gurgaon                    L&T Transmission & Distribution   \n",
            "\n",
            "       MonthlyHours  TariffRate  ElectricityBill  \n",
            "0               384         8.4           3225.6  \n",
            "1               488         7.8           3806.4  \n",
            "2               416         7.7           3203.2  \n",
            "3               475         9.2           4370.0  \n",
            "4               457         9.2           4204.4  \n",
            "...             ...         ...              ...  \n",
            "45340           764         7.9           6035.6  \n",
            "45341           572         8.5           4862.0  \n",
            "45342           609         8.5           5176.5  \n",
            "45343           748         7.4           5535.2  \n",
            "45344           427         8.3           3544.1  \n",
            "\n",
            "[45345 rows x 12 columns]\n"
          ]
        }
      ]
    },
    {
      "cell_type": "markdown",
      "source": [
        "log transformation\n"
      ],
      "metadata": {
        "id": "e6lNdFNhqFDL"
      }
    },
    {
      "cell_type": "code",
      "source": [
        "import pandas as pd\n",
        "import numpy as np\n",
        "data = pd.read_csv('/content/electric bill 1.csv')\n",
        "df = pd.DataFrame(data)\n",
        "df['Fan'] = pd.to_numeric(df['Fan'],errors='coerce')\n",
        "df['log_order_Quality'] = df['Fan'].apply(lambda x: np.log(x) if x> 0 else 0)\n",
        "print(df)"
      ],
      "metadata": {
        "colab": {
          "base_uri": "https://localhost:8080/"
        },
        "id": "2CDg2fJRut4B",
        "outputId": "c6e373d1-60f1-491f-a711-8f46d9dacdf4"
      },
      "execution_count": 18,
      "outputs": [
        {
          "output_type": "stream",
          "name": "stdout",
          "text": [
            "        Fan  Refrigerator  AirConditioner  Television  Monitor  MotorPump  \\\n",
            "0      16.0            23             NaN           6        1        0.0   \n",
            "1      19.0            22             NaN           3        1        0.0   \n",
            "2       7.0            20             NaN           6        7        0.0   \n",
            "3       7.0            22             NaN          21        1        0.0   \n",
            "4      11.0            23             NaN          11        1        NaN   \n",
            "...     ...           ...             ...         ...      ...        ...   \n",
            "45340  18.0            22             3.0          22        1        0.0   \n",
            "45341  23.0            23             2.0           6       12        0.0   \n",
            "45342  22.0            22             2.0          20        1        0.0   \n",
            "45343   8.0            21             2.0          22        7        0.0   \n",
            "45344   8.0            17             2.0           4        1        0.0   \n",
            "\n",
            "       Month       City                                            Company  \\\n",
            "0         10  Hyderabad                            Tata Power Company Ltd.   \n",
            "1          5   Vadodara                                               NHPC   \n",
            "2          7     Shimla                                    Jyoti Structure   \n",
            "3          6     Mumbai                                    Power Grid Corp   \n",
            "4          2     Mumbai          Ratnagiri Gas and Power Pvt. Ltd. (RGPPL)   \n",
            "...      ...        ...                                                ...   \n",
            "45340      9  Ahmedabad  Maha Transco – Maharashtra State Electricity T...   \n",
            "45341      2  New Delhi                                       Orient Green   \n",
            "45342      1  New Delhi                               GE T&D India Limited   \n",
            "45343     12  Ratnagiri                                 TransRail Lighting   \n",
            "45344      1    Gurgaon                    L&T Transmission & Distribution   \n",
            "\n",
            "       MonthlyHours  TariffRate  ElectricityBill  log_order_Quality  \n",
            "0               384         8.4           3225.6           2.772589  \n",
            "1               488         7.8           3806.4           2.944439  \n",
            "2               416         7.7           3203.2           1.945910  \n",
            "3               475         9.2           4370.0           1.945910  \n",
            "4               457         9.2           4204.4           2.397895  \n",
            "...             ...         ...              ...                ...  \n",
            "45340           764         7.9           6035.6           2.890372  \n",
            "45341           572         8.5           4862.0           3.135494  \n",
            "45342           609         8.5           5176.5           3.091042  \n",
            "45343           748         7.4           5535.2           2.079442  \n",
            "45344           427         8.3           3544.1           2.079442  \n",
            "\n",
            "[45345 rows x 13 columns]\n"
          ]
        }
      ]
    },
    {
      "cell_type": "markdown",
      "source": [
        "Time series"
      ],
      "metadata": {
        "id": "OCCd_pfotxNV"
      }
    },
    {
      "cell_type": "code",
      "source": [
        "import pandas as pd\n",
        "import numpy as np\n",
        "df=pd.read_csv('/content/electric bill 1.csv')\n",
        "data=df.select_dtypes(include=['float','int'])\n",
        "rolling_mean = data.rolling(window=3).mean()\n",
        "rolling_std = data.rolling(window=3).std()\n",
        "outliers = data[(data - rolling_mean).abs()> -1 * rolling_std]\n",
        "print(\"Time series outliers:\",outliers)"
      ],
      "metadata": {
        "id": "__9C_x24twyn",
        "colab": {
          "base_uri": "https://localhost:8080/"
        },
        "outputId": "0433b738-a0ba-4836-e767-2d52c8d98b88"
      },
      "execution_count": 19,
      "outputs": [
        {
          "output_type": "stream",
          "name": "stdout",
          "text": [
            "Time series outliers:         Fan  Refrigerator  AirConditioner  Television  Monitor  MotorPump  \\\n",
            "0       NaN           NaN             NaN         NaN      NaN        NaN   \n",
            "1       NaN           NaN             NaN         NaN      NaN        NaN   \n",
            "2       7.0          20.0             NaN         6.0      7.0        NaN   \n",
            "3       7.0          22.0             NaN        21.0      1.0        NaN   \n",
            "4      11.0          23.0             NaN        11.0      1.0        NaN   \n",
            "...     ...           ...             ...         ...      ...        ...   \n",
            "45340  18.0          22.0             3.0        22.0      NaN        NaN   \n",
            "45341  23.0          23.0             2.0         6.0     12.0        NaN   \n",
            "45342  22.0          22.0             2.0        20.0      1.0        NaN   \n",
            "45343   8.0          21.0             NaN        22.0      7.0        NaN   \n",
            "45344   8.0          17.0             NaN         4.0      1.0        NaN   \n",
            "\n",
            "       Month  MonthlyHours  TariffRate  ElectricityBill  \n",
            "0        NaN           NaN         NaN              NaN  \n",
            "1        NaN           NaN         NaN              NaN  \n",
            "2        7.0         416.0         7.7           3203.2  \n",
            "3        6.0         475.0         9.2           4370.0  \n",
            "4        2.0         457.0         9.2           4204.4  \n",
            "...      ...           ...         ...              ...  \n",
            "45340    9.0         764.0         7.9           6035.6  \n",
            "45341    2.0         572.0         8.5           4862.0  \n",
            "45342    1.0         609.0         8.5           5176.5  \n",
            "45343   12.0         748.0         7.4           5535.2  \n",
            "45344    1.0         427.0         8.3           3544.1  \n",
            "\n",
            "[45345 rows x 10 columns]\n"
          ]
        }
      ]
    }
  ]
}